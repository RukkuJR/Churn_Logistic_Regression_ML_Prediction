#to explore dataframe
import pandas as pd
#to perform calcand agg
import numpy as np
#to plot graph same like powerbi
import matplotlib.pyplot as plt
#to encode string to number
from sklearn.preprocessing import LabelEncoder
#to import ML model readily available
from sklearn.model_selection import train_test_split
from sklearn.linear_model import LogisticRegression
from sklearn.metrics import f1_score

#######################LOAD####################################
###loading file into dataframe and analyse#########
file_path = r"C:\Learning\ML\WA_Fn-UseC_-Telco-Customer-Churn.csv"
#THe original dataset is not encoded will be used to merge with prediction later
df_ori = pd.read_csv(file_path)
df = pd.read_csv(file_path) #put data into dataframe using panda library
#print the datafram loaded and summary and details
#df.info()
#df.describe()
#print(df.head())
#print(df.shape)

################CLEAN##########################################

#remove unique column
#Drop customer_id column as it is just a unique id not useful for logistic regression
df.drop("customerID",inplace=True,axis=1)
#df.info()

# Initialize the LabelEncoder
label_encoder = LabelEncoder()

# Encode all of srting column because logistic regression only takes numerical value eg. red=1,blue=2
df['gender_Enc'] = label_encoder.fit_transform(df['gender'])
df['Contract_Enc'] = label_encoder.fit_transform(df['Contract'])
df['Partner_Enc'] = label_encoder.fit_transform(df['Partner'])
df['Dependents_Enc'] = label_encoder.fit_transform(df['Dependents'])
df['PhoneService_Enc'] = label_encoder.fit_transform(df['PhoneService'])
df['MultipleLines_Enc'] = label_encoder.fit_transform(df['MultipleLines'])
df['InternetService_Enc'] = label_encoder.fit_transform(df['InternetService'])
df['OnlineSecurity_Enc'] = label_encoder.fit_transform(df['OnlineSecurity'])
df['OnlineBackup_Enc'] = label_encoder.fit_transform(df['OnlineBackup'])
df['DeviceProtection_Enc'] = label_encoder.fit_transform(df['DeviceProtection'])
df['TechSupport_Enc'] = label_encoder.fit_transform(df['TechSupport'])
df['StreamingTV_Enc'] = label_encoder.fit_transform(df['StreamingTV'])
df['StreamingMovies_Enc'] = label_encoder.fit_transform(df['StreamingMovies'])
df['PaperlessBilling_Enc'] = label_encoder.fit_transform(df['PaperlessBilling'])
df['PaymentMethod_Enc'] = label_encoder.fit_transform(df['PaymentMethod'])
df['Churn_Enc'] = label_encoder.fit_transform(df['Churn'])
#drop all original string column
df.drop("gender",inplace=True,axis=1)
df.drop("Contract",inplace=True,axis=1)
df.drop("Partner",inplace=True,axis=1)
df.drop("Dependents",inplace=True,axis=1)
df.drop("PhoneService",inplace=True,axis=1)
df.drop("MultipleLines",inplace=True,axis=1)
df.drop("InternetService",inplace=True,axis=1)
df.drop("OnlineSecurity",inplace=True,axis=1)
df.drop("OnlineBackup",inplace=True,axis=1)
df.drop("DeviceProtection",inplace=True,axis=1)
df.drop("TechSupport",inplace=True,axis=1)
df.drop("StreamingTV",inplace=True,axis=1)
df.drop("StreamingMovies",inplace=True,axis=1)
df.drop("PaperlessBilling",inplace=True,axis=1)
df.drop("PaymentMethod",inplace=True,axis=1)
df.drop("Churn",inplace=True,axis=1)

#print("Label Encoded DataFrame:")
#print(df.head())

###Data Cleansing-removing null or blank###

# Check for missing values in the dataset
#print(df.isnull().sum())

# Check for columns containing only spaces
#spaces = (df == " ").sum()

# Replace spaces with 0
df.replace(" ", 0, inplace=True)
# Print columns with the number of spaces in them
#print(spaces[spaces > 0])
######################################################################


################Adsigning Labels#######################################
# Example: Assuming 'Churn' is the target variable to be predicted
X = df.drop('Churn_Enc', axis=1)  #all DF Input Features excluding Drop and with the target variable) meaning not fullyd drop churn
y = df['Churn_Enc']  # Target variable

##################SPLIT######################################
# Split data into training and testing sets (75% train, 25% test)
X_train, X_test, y_train, y_test = train_test_split(X, y, test_size=0.25, random_state=42)

####output shows how many rows used for traininig vs tes
####X_train.shape, X_test.shape, y_train.shape, y_test.shape

##################Train & predictModel##############################

# Initialize Logistic Regression model(1000 time algorithm applied to get right fit/traner)-hyperparament
logistic_regression = LogisticRegression(max_iter=1000)
#logistic_regression.get_params()

# Train the Logistic Regression model
logistic_regression.fit(X_train, y_train)

# Predict the model
# Making predictions with each model
y_preds = logistic_regression.predict(X_test)
#svm_preds = svm.predict(X_test_scaled)
#tree_preds = tree.predict(X_test_scaled)

##################Evaluate Model -F! overall precission and recall score##############################
#print("f1 score for base model is : " , f1_score(y_test,y_pred_basemodel))
# Evaluate the model on the training set
train_acc = logistic_regression.score(X_train, y_train)
#print(f"The model's accuracy on the training dataset is: {train_acc*100}%")
# Evaluate the model on the test set
test_acc = logistic_regression.score(X_test, y_test)
#print(f"The model's accuracy on the testing dataset is: {test_acc*100:.2f}%")

# Evaluate the model comparing test vs prediction and F1score is key of comparison
print("f1 score for base model is : " , f1_score(y_test,y_preds))

#comparing acutal test data vs predict(churn vs churn pred) on the test data whole stats
#accuracy = accuracy_score(y_test, y_preds)
#print(f'Logistic Regression Accuracy: {accuracy:.2f}')
#print(classification_report(y_test, y_preds))
####################################################################################################

############################apply trained model, ammend predictionto wholeDF########################
X_full = df.drop('Churn_Enc', axis=1)  # Full feature set from the entire DataFrame
# Apply the trained model to predict on the entire feature set. The model logistic_regree trainied b4
Churn_pred = logistic_regression.predict(X_full)
# Convert predictions into a DataFrame
Churn_pred_df = pd.DataFrame(y_full_pred, index=df.index, columns=['Churn_pred'])
# Map the 0/1 values to 'No'/'Yes'
Churn_pred_df['Churn_pred_Dsc'] = Churn_pred_df['Churn_pred'].map({0: 'No', 1: 'Yes'})

# Merge the full predictions back into the original DataFrame based on index(DF+CHurn Pred DF)
df_ori = df_ori.join(Churn_pred_df, how='left')

print(df_ori.head())












